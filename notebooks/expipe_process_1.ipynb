{
 "cells": [
  {
   "cell_type": "code",
   "execution_count": 1,
   "metadata": {
    "scrolled": true
   },
   "outputs": [],
   "source": [
    "%load_ext autoreload\n",
    "%autoreload 2"
   ]
  },
  {
   "cell_type": "code",
   "execution_count": 2,
   "metadata": {},
   "outputs": [],
   "source": [
    "from expipe_plugin_cinpla.widgets import browser\n",
    "import expipe"
   ]
  },
  {
   "cell_type": "code",
   "execution_count": 3,
   "metadata": {
    "scrolled": false
   },
   "outputs": [
    {
     "data": {
      "application/vnd.jupyter.widget-view+json": {
       "model_id": "104a0c3c04504e5b8c5bd300abcdfd13",
       "version_major": 2,
       "version_minor": 0
      },
      "text/plain": [
       "Tab(children=(Tab(children=(VBox(children=(HBox(children=(SelectDirectoryButton(description='*Select OpenEphys…"
      ]
     },
     "metadata": {},
     "output_type": "display_data"
    },
    {
     "name": "stdout",
     "output_type": "stream",
     "text": [
      "Invoking remote shell\n",
      "Initializing transfer of \"D:\\projects\\novel-env\\actions\\142-200521-2\\data\\main.exdir\\acquisition\\2\" to \"193.157.210.157\"\n",
      "mkdir /tmp/process_9274270\n",
      "end of stdout buffer. finished with exit status\n",
      "Packing tar archive\n",
      "D:\\projects\\novel-env\\actions\\142-200521-2\\data\\main.exdir\\acquisition\\2.tar\n"
     ]
    },
    {
     "name": "stderr",
     "output_type": "stream",
     "text": [
      "Transferring: b'2.tar':  25%|#############7                                        | 358M/1.41G [00:30<01:29, 11.8MB/s]"
     ]
    }
   ],
   "source": [
    "browser.display('D:/projects/novel-env')"
   ]
  },
  {
   "cell_type": "code",
   "execution_count": 4,
   "metadata": {},
   "outputs": [],
   "source": [
    "import spikeextractors as se\n",
    "import spiketoolkit as st\n",
    "from pathlib import Path\n",
    "import time"
   ]
  },
  {
   "cell_type": "code",
   "execution_count": 8,
   "metadata": {},
   "outputs": [],
   "source": [
    "string = f\"{openephys_path}\""
   ]
  },
  {
   "cell_type": "code",
   "execution_count": 9,
   "metadata": {},
   "outputs": [
    {
     "data": {
      "text/plain": [
       "0"
      ]
     },
     "execution_count": 9,
     "metadata": {},
     "output_type": "execute_result"
    }
   ],
   "source": [
    "00"
   ]
  },
  {
   "cell_type": "code",
   "execution_count": 10,
   "metadata": {},
   "outputs": [],
   "source": [
    "probe_string = \"C:\\apps\\open-ephys\\tetrode_32_openephys.prb\""
   ]
  },
  {
   "cell_type": "code",
   "execution_count": 19,
   "metadata": {},
   "outputs": [],
   "source": [
    "openephys_path = Path(\"D:/Data/142_2021-05-19_12-53-50_3\")\n",
    "probe_path = \"C:/apps/open-ephys/tetrode_32_openephys.prb\""
   ]
  },
  {
   "cell_type": "code",
   "execution_count": 20,
   "metadata": {},
   "outputs": [
    {
     "data": {
      "text/plain": [
       "'C:/apps/open-ephys/tetrode_32_openephys.prb'"
      ]
     },
     "execution_count": 20,
     "metadata": {},
     "output_type": "execute_result"
    }
   ],
   "source": [
    "probe_path"
   ]
  },
  {
   "cell_type": "code",
   "execution_count": 21,
   "metadata": {},
   "outputs": [],
   "source": [
    "spikesort=True\n",
    "compute_lfp=True\n",
    "compute_mua=False\n",
    "parallel=False\n",
    "spikesorter_params=None\n",
    "server=None\n",
    "bad_channels=[]\n",
    "ref='cmr'\n",
    "split=\"half\""
   ]
  },
  {
   "cell_type": "code",
   "execution_count": 22,
   "metadata": {},
   "outputs": [
    {
     "name": "stdout",
     "output_type": "stream",
     "text": [
      "Loading Open-Ephys: reading settings...\n",
      "Decoding data from  binary  format\n",
      "Reading oebin file\n",
      "Writing filtered and common referenced data\n",
      "Active channels:  32\n",
      "Bandpass filter\n",
      "Filter time:  222.15481424331665\n",
      "Computing LFP\n",
      "Filter time:  247.83862447738647\n"
     ]
    }
   ],
   "source": [
    "recording = se.OpenEphysRecordingExtractor(str(openephys_path))\n",
    "recording = recording.load_probe_file(probe_path)\n",
    "\n",
    "if 'auto' not in bad_channels and len(bad_channels) > 0:\n",
    "    recording_active = st.preprocessing.remove_bad_channels(recording, bad_channel_ids=bad_channels)\n",
    "else:\n",
    "    recording_active = recording\n",
    "\n",
    "# apply filtering and cmr\n",
    "print('Writing filtered and common referenced data')\n",
    "\n",
    "tmp_folder = Path(f\"tmp_test_si\")\n",
    "\n",
    "freq_min_hp = 300\n",
    "freq_max_hp = 3000\n",
    "freq_min_lfp = 1\n",
    "freq_max_lfp = 300\n",
    "freq_resample_lfp = 1000\n",
    "freq_resample_mua = 1000\n",
    "type_hp = 'butter'\n",
    "order_hp = 5\n",
    "\n",
    "recording_hp = st.preprocessing.bandpass_filter(\n",
    "    recording_active, freq_min=freq_min_hp, freq_max=freq_max_hp,\n",
    "    filter_type=type_hp, order=order_hp)\n",
    "\n",
    "if ref is not None:\n",
    "    if ref.lower() == 'cmr':\n",
    "        reference = 'median'\n",
    "    elif ref.lower() == 'car':\n",
    "        reference = 'average'\n",
    "    else:\n",
    "        raise Exception(\"'reference' can be either 'cmr' or 'car'\")\n",
    "    if split == 'all':\n",
    "        recording_cmr = st.preprocessing.common_reference(recording_hp, reference=reference)\n",
    "    elif split == 'half':\n",
    "        groups = [recording.get_channel_ids()[:int(len(recording.get_channel_ids()) / 2)],\n",
    "                  recording.get_channel_ids()[int(len(recording.get_channel_ids()) / 2):]]\n",
    "        recording_cmr = st.preprocessing.common_reference(recording_hp, groups=groups, reference=reference)\n",
    "    else:\n",
    "        if isinstance(split, list):\n",
    "            recording_cmr = st.preprocessing.common_reference(recording_hp, groups=split, reference=reference)\n",
    "        else:\n",
    "            raise Exception(\"'split' must be a list of lists\")\n",
    "else:\n",
    "    recording_cmr = recording\n",
    "\n",
    "if 'auto' in bad_channels:\n",
    "    recording_cmr = st.preprocessing.remove_bad_channels(recording_cmr, bad_channel_ids=None,\n",
    "                                                         bad_threshold=bad_threshold, seconds=10)\n",
    "    recording_active = se.SubRecordingExtractor(\n",
    "        recording, channel_ids=recording_cmr.active_channels)\n",
    "\n",
    "print(\"Active channels: \", len(recording_active.get_channel_ids()))\n",
    "recording_lfp = st.preprocessing.bandpass_filter(\n",
    "    recording_active, freq_min=freq_min_lfp, freq_max=freq_max_lfp)\n",
    "recording_lfp = st.preprocessing.resample(\n",
    "    recording_lfp, freq_resample_lfp)\n",
    "recording_mua = st.preprocessing.resample(\n",
    "    st.preprocessing.rectify(recording_active), freq_resample_mua)\n",
    "\n",
    "if spikesort:\n",
    "    print('Bandpass filter')\n",
    "    t_start = time.time()\n",
    "    recording_cmr = se.CacheRecordingExtractor(recording_cmr, save_path=tmp_folder / 'filt.dat')\n",
    "    print('Filter time: ', time.time() - t_start)\n",
    "if compute_lfp:\n",
    "    print('Computing LFP')\n",
    "    t_start = time.time()\n",
    "    recording_lfp = se.CacheRecordingExtractor(recording_lfp, save_path=tmp_folder / 'lfp.dat')\n",
    "    print('Filter time: ', time.time() - t_start)\n",
    "\n",
    "if compute_mua:\n",
    "    print('Computing MUA')\n",
    "    t_start = time.time()\n",
    "    recording_mua = se.CacheRecordingExtractor(recording_mua, save_path=tmp_folder / 'mua.dat')\n",
    "    print('Filter time: ', time.time() - t_start)\n"
   ]
  },
  {
   "cell_type": "code",
   "execution_count": null,
   "metadata": {},
   "outputs": [],
   "source": []
  }
 ],
 "metadata": {
  "kernelspec": {
   "display_name": "Python 3",
   "language": "python",
   "name": "python3"
  },
  "language_info": {
   "codemirror_mode": {
    "name": "ipython",
    "version": 3
   },
   "file_extension": ".py",
   "mimetype": "text/x-python",
   "name": "python",
   "nbconvert_exporter": "python",
   "pygments_lexer": "ipython3",
   "version": "3.6.12"
  }
 },
 "nbformat": 4,
 "nbformat_minor": 2
}
