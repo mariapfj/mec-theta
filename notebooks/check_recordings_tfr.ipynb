{
 "cells": [
  {
   "cell_type": "code",
   "execution_count": 3,
   "metadata": {},
   "outputs": [],
   "source": [
    "import spikeextractors as se\n",
    "import spiketoolkit as st\n",
    "import numpy as np\n",
    "import matplotlib.pylab as plt\n",
    "import exdir\n",
    "import place_stimulation as ps\n",
    "import expipe\n",
    "import scipy.signal as ss\n",
    "import pyintan\n",
    "import pycwt\n",
    "import sys\n",
    "sys.path.append('../mec_theta')\n",
    "import data_processing as dp\n",
    "from trackunitmulticomparison import TrackMultipleSessions\n",
    "\n",
    "%matplotlib notebook\n",
    "\n",
    "def find_fmax_noise(recording_hp, start_frame=0, end_frame=300000, start_freq=2000, end_freq=4000):\n",
    "    import scipy.signal as ss\n",
    "    filt_traces = recording_hp.get_traces(start_frame=start_frame, end_frame=end_frame)\n",
    "    f, p = ss.welch(filt_traces, recording_hp.get_sampling_frequency())\n",
    "    idxs = np.where((f > start_freq) & (f < end_freq))\n",
    "\n",
    "    max_freq = f[idxs][np.squeeze(p[:, idxs]).mean(axis=0).argmax()]\n",
    "    return max_freq"
   ]
  },
  {
   "cell_type": "code",
   "execution_count": 4,
   "metadata": {},
   "outputs": [],
   "source": [
    "project_path = dp.project_path()\n",
    "\n",
    "project = expipe.get_project(project_path)\n",
    "actions = project.actions"
   ]
  },
  {
   "cell_type": "code",
   "execution_count": 5,
   "metadata": {},
   "outputs": [
    {
     "data": {
      "application/vnd.jupyter.widget-view+json": {
       "model_id": "f770ea83c2324fb18e18221a5deb1c20",
       "version_major": 2,
       "version_minor": 0
      },
      "text/plain": [
       "HBox(children=(VBox(children=(Text(value='', placeholder='Search'), Select(layout=Layout(height='200px'), opti…"
      ]
     },
     "metadata": {},
     "output_type": "display_data"
    }
   ],
   "source": [
    "actions"
   ]
  },
  {
   "cell_type": "code",
   "execution_count": 6,
   "metadata": {},
   "outputs": [],
   "source": [
    "action = actions['139-180321-2']"
   ]
  },
  {
   "cell_type": "code",
   "execution_count": 7,
   "metadata": {},
   "outputs": [],
   "source": [
    "check_hp = False\n",
    "check_lfp = True"
   ]
  },
  {
   "cell_type": "code",
   "execution_count": 8,
   "metadata": {},
   "outputs": [
    {
     "name": "stdout",
     "output_type": "stream",
     "text": [
      "Project path: D:\\projects\\novel-env\n",
      "Data path: actions\\139-180321-2\\data\\main.exdir\n"
     ]
    }
   ],
   "source": [
    "data_path = ps.get_data_path(action)"
   ]
  },
  {
   "cell_type": "code",
   "execution_count": 9,
   "metadata": {},
   "outputs": [],
   "source": [
    "# check if openephys or intan\n",
    "exdir_file = exdir.File(str(data_path))\n",
    "acquisition = exdir_file['acquisition']"
   ]
  },
  {
   "cell_type": "code",
   "execution_count": 10,
   "metadata": {},
   "outputs": [],
   "source": [
    "attrs = acquisition.attrs"
   ]
  },
  {
   "cell_type": "code",
   "execution_count": 11,
   "metadata": {},
   "outputs": [
    {
     "name": "stdout",
     "output_type": "stream",
     "text": [
      "Open Ephys Recording\n",
      "Loading Open-Ephys: reading settings.xml...\n",
      "Decoding data from  binary  format\n"
     ]
    }
   ],
   "source": [
    "if 'Intan' in attrs['acquisition_system']:\n",
    "    print('Intan recording')\n",
    "    prb_file = 'probes/tetrode_32_intan.prb'\n",
    "    intan = True\n",
    "    openephys = False\n",
    "    rhs_file = [x for x in acquisition[attrs['session']].directory.iterdir() if x.suffix == '.rhs'][0]\n",
    "    f = pyintan.File(str(rhs_file))\n",
    "    dig_intan = f.digital_in_events\n",
    "    recording = se.IntanRecordingExtractor(rhs_file)\n",
    "elif 'FPGA' in attrs['acquisition_system']:\n",
    "    print('Open Ephys Recording')\n",
    "    prb_file = 'probes/tetrode_32_openephys.prb'\n",
    "    openephys = True\n",
    "    intan = False\n",
    "    recording = se.OpenEphysRecordingExtractor(str(acquisition[attrs['session']].directory))"
   ]
  },
  {
   "cell_type": "code",
   "execution_count": 12,
   "metadata": {},
   "outputs": [],
   "source": [
    "#directly check data from OE file\n",
    "# recording = se.OpenEphysRecordingExtractor(r\"D:\\Data\\139_2021-03-10_12-37-39_2\")"
   ]
  },
  {
   "cell_type": "code",
   "execution_count": 13,
   "metadata": {},
   "outputs": [],
   "source": [
    "# recording = se.load_probe_file(recording, prb_file)\n",
    "# recording_f = st.preprocessing.bandpass_filter(recording, type='butter', order=5)\n",
    "# recording_cmr = st.preprocessing.common_reference(recording_f, reference='median', groups=[list(range(16)), list(range(16,32))])\n",
    "\n",
    "# if intan:\n",
    "#     notch = find_fmax_noise(recording_cmr)\n",
    "#     recording_cmr = st.preprocessing.notch_filter(recording_cmr, notch, q=100)\n",
    "#     if len(dig_intan) > 1:\n",
    "#         print(dig_intan[1].times)\n",
    "#         stim_triggers = [int(d) for d in dig_intan[1].times.magnitude[::2] * recording.get_sampling_frequency()]\n",
    "#         recording_rm = st.preprocessing.remove_artifacts(recording_cmr, np.array(stim_triggers), ms_before=5, ms_after=5)\n",
    "#     else:\n",
    "#         recording_rm = recording_cmr\n",
    "# else:\n",
    "#     recording_rm = recording_cmr"
   ]
  },
  {
   "cell_type": "code",
   "execution_count": 14,
   "metadata": {},
   "outputs": [],
   "source": [
    "fs = 30000\n",
    "fs_lfp = 1000\n",
    "start_time = 0    # in seconds\n",
    "end_time = 120"
   ]
  },
  {
   "cell_type": "code",
   "execution_count": 15,
   "metadata": {},
   "outputs": [
    {
     "name": "stdout",
     "output_type": "stream",
     "text": [
      "[16 17 18 19]\n"
     ]
    }
   ],
   "source": [
    "# choose tetrode\n",
    "tetrode = 4\n",
    "channel_ids = tetrode*4 + np.arange(4)\n",
    "print(channel_ids)"
   ]
  },
  {
   "cell_type": "code",
   "execution_count": 16,
   "metadata": {},
   "outputs": [],
   "source": [
    "if check_hp:\n",
    "    traces = recording_rm.get_traces(start_frame=start_time*fs, end_frame=end_time*fs)\n",
    "    traces_f = recording_f.get_traces(start_frame=start_time*fs, end_frame=end_time*fs)\n",
    "    timestamps = np.arange(traces.shape[1])/recording.get_sampling_frequency() + start_time\n",
    "    print(traces.shape, timestamps.shape)"
   ]
  },
  {
   "cell_type": "code",
   "execution_count": 17,
   "metadata": {},
   "outputs": [],
   "source": [
    "if check_hp:\n",
    "    plt.figure()\n",
    "    colors = plt.rcParams['axes.prop_cycle'].by_key()['color']\n",
    "    for i, ch in enumerate(channel_ids):\n",
    "        plt.plot(timestamps, traces[ch] + 600*i, lw=0.5, color=colors[i])\n",
    "        plt.plot(timestamps, traces_f[ch] + 600*i, lw=0.5, color=colors[i], alpha=0.3)\n",
    "        if intan:\n",
    "            [plt.axvline(d, lw=0.3, alpha=0.2) for d in dig_intan[1].times[::2]]"
   ]
  },
  {
   "cell_type": "code",
   "execution_count": 18,
   "metadata": {},
   "outputs": [
    {
     "name": "stdout",
     "output_type": "stream",
     "text": [
      ".dat:  continuous.dat\n",
      "Estimated samples:  21657856  Numchan:  32\n"
     ]
    }
   ],
   "source": [
    "# compute lfp and psd\n",
    "recording_lfp = st.preprocessing.bandpass_filter(\n",
    "            recording, freq_min=1, freq_max=300)\n",
    "recording_lfp = st.preprocessing.resample(\n",
    "    recording_lfp, 1000)\n",
    "fs_lfp = 1000\n"
   ]
  },
  {
   "cell_type": "code",
   "execution_count": 19,
   "metadata": {},
   "outputs": [
    {
     "ename": "KeyboardInterrupt",
     "evalue": "",
     "output_type": "error",
     "traceback": [
      "\u001b[1;31m---------------------------------------------------------------------------\u001b[0m",
      "\u001b[1;31mKeyboardInterrupt\u001b[0m                         Traceback (most recent call last)",
      "\u001b[1;32m<ipython-input-19-fbac33432d17>\u001b[0m in \u001b[0;36m<module>\u001b[1;34m\u001b[0m\n\u001b[0;32m      1\u001b[0m \u001b[1;32mif\u001b[0m \u001b[0mcheck_lfp\u001b[0m\u001b[1;33m:\u001b[0m\u001b[1;33m\u001b[0m\u001b[1;33m\u001b[0m\u001b[0m\n\u001b[1;32m----> 2\u001b[1;33m     \u001b[0mtraces_lfp\u001b[0m \u001b[1;33m=\u001b[0m \u001b[0mrecording_lfp\u001b[0m\u001b[1;33m.\u001b[0m\u001b[0mget_traces\u001b[0m\u001b[1;33m(\u001b[0m\u001b[0mstart_frame\u001b[0m\u001b[1;33m=\u001b[0m\u001b[0mstart_time\u001b[0m\u001b[1;33m*\u001b[0m\u001b[0mfs_lfp\u001b[0m\u001b[1;33m,\u001b[0m \u001b[0mend_frame\u001b[0m\u001b[1;33m=\u001b[0m\u001b[0mend_time\u001b[0m\u001b[1;33m*\u001b[0m\u001b[0mfs_lfp\u001b[0m\u001b[1;33m)\u001b[0m\u001b[1;33m\u001b[0m\u001b[1;33m\u001b[0m\u001b[0m\n\u001b[0m\u001b[0;32m      3\u001b[0m     \u001b[0mtimestamps_lfp\u001b[0m \u001b[1;33m=\u001b[0m \u001b[0mnp\u001b[0m\u001b[1;33m.\u001b[0m\u001b[0marange\u001b[0m\u001b[1;33m(\u001b[0m\u001b[0mtraces_lfp\u001b[0m\u001b[1;33m.\u001b[0m\u001b[0mshape\u001b[0m\u001b[1;33m[\u001b[0m\u001b[1;36m1\u001b[0m\u001b[1;33m]\u001b[0m\u001b[1;33m)\u001b[0m\u001b[1;33m/\u001b[0m\u001b[0mrecording_lfp\u001b[0m\u001b[1;33m.\u001b[0m\u001b[0mget_sampling_frequency\u001b[0m\u001b[1;33m(\u001b[0m\u001b[1;33m)\u001b[0m \u001b[1;33m+\u001b[0m \u001b[0mstart_time\u001b[0m\u001b[1;33m\u001b[0m\u001b[1;33m\u001b[0m\u001b[0m\n\u001b[0;32m      4\u001b[0m     \u001b[0mf\u001b[0m\u001b[1;33m,\u001b[0m \u001b[0mp\u001b[0m \u001b[1;33m=\u001b[0m \u001b[0mss\u001b[0m\u001b[1;33m.\u001b[0m\u001b[0mwelch\u001b[0m\u001b[1;33m(\u001b[0m\u001b[0mtraces_lfp\u001b[0m\u001b[1;33m,\u001b[0m \u001b[0mfs\u001b[0m\u001b[1;33m=\u001b[0m\u001b[0mfs_lfp\u001b[0m\u001b[1;33m,\u001b[0m \u001b[0mnperseg\u001b[0m\u001b[1;33m=\u001b[0m\u001b[1;36m2048\u001b[0m\u001b[1;33m)\u001b[0m\u001b[1;33m\u001b[0m\u001b[1;33m\u001b[0m\u001b[0m\n",
      "\u001b[1;32mc:\\apps\\anaconda3\\envs\\expipe\\lib\\site-packages\\spikeextractors\\extraction_tools.py\u001b[0m in \u001b[0;36mcorrected_args\u001b[1;34m(*args, **kwargs)\u001b[0m\n\u001b[0;32m    813\u001b[0m \u001b[1;33m\u001b[0m\u001b[0m\n\u001b[0;32m    814\u001b[0m         \u001b[1;31m# pass recording as arg and rest as kwargs\u001b[0m\u001b[1;33m\u001b[0m\u001b[1;33m\u001b[0m\u001b[1;33m\u001b[0m\u001b[0m\n\u001b[1;32m--> 815\u001b[1;33m         \u001b[0mget_traces_correct_arg\u001b[0m \u001b[1;33m=\u001b[0m \u001b[0mfunc\u001b[0m\u001b[1;33m(\u001b[0m\u001b[0margs\u001b[0m\u001b[1;33m[\u001b[0m\u001b[1;36m0\u001b[0m\u001b[1;33m]\u001b[0m\u001b[1;33m,\u001b[0m \u001b[1;33m**\u001b[0m\u001b[0mkwargs\u001b[0m\u001b[1;33m)\u001b[0m\u001b[1;33m\u001b[0m\u001b[1;33m\u001b[0m\u001b[0m\n\u001b[0m\u001b[0;32m    816\u001b[0m \u001b[1;33m\u001b[0m\u001b[0m\n\u001b[0;32m    817\u001b[0m         \u001b[1;32mreturn\u001b[0m \u001b[0mget_traces_correct_arg\u001b[0m\u001b[1;33m\u001b[0m\u001b[1;33m\u001b[0m\u001b[0m\n",
      "\u001b[1;32mc:\\apps\\anaconda3\\envs\\expipe\\lib\\site-packages\\spiketoolkit\\preprocessing\\resample.py\u001b[0m in \u001b[0;36mget_traces\u001b[1;34m(self, channel_ids, start_frame, end_frame)\u001b[0m\n\u001b[0;32m     48\u001b[0m             traces_resampled = signal.decimate(traces,\n\u001b[0;32m     49\u001b[0m                                                \u001b[0mq\u001b[0m\u001b[1;33m=\u001b[0m\u001b[0mint\u001b[0m\u001b[1;33m(\u001b[0m\u001b[0mself\u001b[0m\u001b[1;33m.\u001b[0m\u001b[0m_recording\u001b[0m\u001b[1;33m.\u001b[0m\u001b[0mget_sampling_frequency\u001b[0m\u001b[1;33m(\u001b[0m\u001b[1;33m)\u001b[0m \u001b[1;33m/\u001b[0m \u001b[0mself\u001b[0m\u001b[1;33m.\u001b[0m\u001b[0m_resample_rate\u001b[0m\u001b[1;33m)\u001b[0m\u001b[1;33m,\u001b[0m\u001b[1;33m\u001b[0m\u001b[1;33m\u001b[0m\u001b[0m\n\u001b[1;32m---> 50\u001b[1;33m                                                axis=1)\n\u001b[0m\u001b[0;32m     51\u001b[0m         \u001b[1;32melse\u001b[0m\u001b[1;33m:\u001b[0m\u001b[1;33m\u001b[0m\u001b[1;33m\u001b[0m\u001b[0m\n\u001b[0;32m     52\u001b[0m             \u001b[0mtraces_resampled\u001b[0m \u001b[1;33m=\u001b[0m \u001b[0msignal\u001b[0m\u001b[1;33m.\u001b[0m\u001b[0mresample\u001b[0m\u001b[1;33m(\u001b[0m\u001b[0mtraces\u001b[0m\u001b[1;33m,\u001b[0m \u001b[0mint\u001b[0m\u001b[1;33m(\u001b[0m\u001b[0mend_frame_sampled\u001b[0m \u001b[1;33m-\u001b[0m \u001b[0mstart_frame_sampled\u001b[0m\u001b[1;33m)\u001b[0m\u001b[1;33m,\u001b[0m \u001b[0maxis\u001b[0m\u001b[1;33m=\u001b[0m\u001b[1;36m1\u001b[0m\u001b[1;33m)\u001b[0m\u001b[1;33m\u001b[0m\u001b[1;33m\u001b[0m\u001b[0m\n",
      "\u001b[1;32mc:\\apps\\anaconda3\\envs\\expipe\\lib\\site-packages\\scipy\\signal\\signaltools.py\u001b[0m in \u001b[0;36mdecimate\u001b[1;34m(x, q, n, ftype, axis, zero_phase)\u001b[0m\n\u001b[0;32m   4275\u001b[0m     \u001b[1;32melse\u001b[0m\u001b[1;33m:\u001b[0m  \u001b[1;31m# IIR case\u001b[0m\u001b[1;33m\u001b[0m\u001b[1;33m\u001b[0m\u001b[0m\n\u001b[0;32m   4276\u001b[0m         \u001b[1;32mif\u001b[0m \u001b[0mzero_phase\u001b[0m\u001b[1;33m:\u001b[0m\u001b[1;33m\u001b[0m\u001b[1;33m\u001b[0m\u001b[0m\n\u001b[1;32m-> 4277\u001b[1;33m             \u001b[0my\u001b[0m \u001b[1;33m=\u001b[0m \u001b[0mfiltfilt\u001b[0m\u001b[1;33m(\u001b[0m\u001b[0mb\u001b[0m\u001b[1;33m,\u001b[0m \u001b[0ma\u001b[0m\u001b[1;33m,\u001b[0m \u001b[0mx\u001b[0m\u001b[1;33m,\u001b[0m \u001b[0maxis\u001b[0m\u001b[1;33m=\u001b[0m\u001b[0maxis\u001b[0m\u001b[1;33m)\u001b[0m\u001b[1;33m\u001b[0m\u001b[1;33m\u001b[0m\u001b[0m\n\u001b[0m\u001b[0;32m   4278\u001b[0m         \u001b[1;32melse\u001b[0m\u001b[1;33m:\u001b[0m\u001b[1;33m\u001b[0m\u001b[1;33m\u001b[0m\u001b[0m\n\u001b[0;32m   4279\u001b[0m             \u001b[0my\u001b[0m \u001b[1;33m=\u001b[0m \u001b[0mlfilter\u001b[0m\u001b[1;33m(\u001b[0m\u001b[0mb\u001b[0m\u001b[1;33m,\u001b[0m \u001b[0ma\u001b[0m\u001b[1;33m,\u001b[0m \u001b[0mx\u001b[0m\u001b[1;33m,\u001b[0m \u001b[0maxis\u001b[0m\u001b[1;33m=\u001b[0m\u001b[0maxis\u001b[0m\u001b[1;33m)\u001b[0m\u001b[1;33m\u001b[0m\u001b[1;33m\u001b[0m\u001b[0m\n",
      "\u001b[1;32mc:\\apps\\anaconda3\\envs\\expipe\\lib\\site-packages\\scipy\\signal\\signaltools.py\u001b[0m in \u001b[0;36mfiltfilt\u001b[1;34m(b, a, x, axis, padtype, padlen, method, irlen)\u001b[0m\n\u001b[0;32m   3906\u001b[0m \u001b[1;33m\u001b[0m\u001b[0m\n\u001b[0;32m   3907\u001b[0m     \u001b[1;31m# Forward filter.\u001b[0m\u001b[1;33m\u001b[0m\u001b[1;33m\u001b[0m\u001b[1;33m\u001b[0m\u001b[0m\n\u001b[1;32m-> 3908\u001b[1;33m     \u001b[1;33m(\u001b[0m\u001b[0my\u001b[0m\u001b[1;33m,\u001b[0m \u001b[0mzf\u001b[0m\u001b[1;33m)\u001b[0m \u001b[1;33m=\u001b[0m \u001b[0mlfilter\u001b[0m\u001b[1;33m(\u001b[0m\u001b[0mb\u001b[0m\u001b[1;33m,\u001b[0m \u001b[0ma\u001b[0m\u001b[1;33m,\u001b[0m \u001b[0mext\u001b[0m\u001b[1;33m,\u001b[0m \u001b[0maxis\u001b[0m\u001b[1;33m=\u001b[0m\u001b[0maxis\u001b[0m\u001b[1;33m,\u001b[0m \u001b[0mzi\u001b[0m\u001b[1;33m=\u001b[0m\u001b[0mzi\u001b[0m \u001b[1;33m*\u001b[0m \u001b[0mx0\u001b[0m\u001b[1;33m)\u001b[0m\u001b[1;33m\u001b[0m\u001b[1;33m\u001b[0m\u001b[0m\n\u001b[0m\u001b[0;32m   3909\u001b[0m \u001b[1;33m\u001b[0m\u001b[0m\n\u001b[0;32m   3910\u001b[0m     \u001b[1;31m# Backward filter.\u001b[0m\u001b[1;33m\u001b[0m\u001b[1;33m\u001b[0m\u001b[1;33m\u001b[0m\u001b[0m\n",
      "\u001b[1;32mc:\\apps\\anaconda3\\envs\\expipe\\lib\\site-packages\\scipy\\signal\\signaltools.py\u001b[0m in \u001b[0;36mlfilter\u001b[1;34m(b, a, x, axis, zi)\u001b[0m\n\u001b[0;32m   1907\u001b[0m             \u001b[1;32mreturn\u001b[0m \u001b[0msigtools\u001b[0m\u001b[1;33m.\u001b[0m\u001b[0m_linear_filter\u001b[0m\u001b[1;33m(\u001b[0m\u001b[0mb\u001b[0m\u001b[1;33m,\u001b[0m \u001b[0ma\u001b[0m\u001b[1;33m,\u001b[0m \u001b[0mx\u001b[0m\u001b[1;33m,\u001b[0m \u001b[0maxis\u001b[0m\u001b[1;33m)\u001b[0m\u001b[1;33m\u001b[0m\u001b[1;33m\u001b[0m\u001b[0m\n\u001b[0;32m   1908\u001b[0m         \u001b[1;32melse\u001b[0m\u001b[1;33m:\u001b[0m\u001b[1;33m\u001b[0m\u001b[1;33m\u001b[0m\u001b[0m\n\u001b[1;32m-> 1909\u001b[1;33m             \u001b[1;32mreturn\u001b[0m \u001b[0msigtools\u001b[0m\u001b[1;33m.\u001b[0m\u001b[0m_linear_filter\u001b[0m\u001b[1;33m(\u001b[0m\u001b[0mb\u001b[0m\u001b[1;33m,\u001b[0m \u001b[0ma\u001b[0m\u001b[1;33m,\u001b[0m \u001b[0mx\u001b[0m\u001b[1;33m,\u001b[0m \u001b[0maxis\u001b[0m\u001b[1;33m,\u001b[0m \u001b[0mzi\u001b[0m\u001b[1;33m)\u001b[0m\u001b[1;33m\u001b[0m\u001b[1;33m\u001b[0m\u001b[0m\n\u001b[0m\u001b[0;32m   1910\u001b[0m \u001b[1;33m\u001b[0m\u001b[0m\n\u001b[0;32m   1911\u001b[0m \u001b[1;33m\u001b[0m\u001b[0m\n",
      "\u001b[1;31mKeyboardInterrupt\u001b[0m: "
     ]
    }
   ],
   "source": [
    "if check_lfp:\n",
    "    traces_lfp = recording_lfp.get_traces(start_frame=start_time*fs_lfp, end_frame=end_time*fs_lfp)\n",
    "    timestamps_lfp = np.arange(traces_lfp.shape[1])/recording_lfp.get_sampling_frequency() + start_time\n",
    "    f, p = ss.welch(traces_lfp, fs=fs_lfp, nperseg=2048)"
   ]
  },
  {
   "cell_type": "code",
   "execution_count": null,
   "metadata": {
    "scrolled": false
   },
   "outputs": [],
   "source": [
    "if check_lfp:\n",
    "    plt.figure()\n",
    "    colors = plt.rcParams['axes.prop_cycle'].by_key()['color']\n",
    "    for i, ch in enumerate(channel_ids):\n",
    "        plt.plot(timestamps_lfp, traces_lfp[ch] + 600*i, lw=0.5, color=colors[i])"
   ]
  },
  {
   "cell_type": "code",
   "execution_count": null,
   "metadata": {},
   "outputs": [],
   "source": [
    "if check_lfp:\n",
    "    plt.figure()\n",
    "    f_idx_100 = np.where(f < 100)\n",
    "    f_100 = f[f_idx_100]\n",
    "    p_100 = np.squeeze(p[:, f_idx_100])\n",
    "    _ = plt.semilogy(f_100, p_100[:16].T, 'r', alpha=0.5) #tetrodes 0-3\n",
    "    _ = plt.semilogy(f_100, p_100[16:].T, 'b', alpha=0.5) #tetrodes 4-7\n"
   ]
  },
  {
   "cell_type": "code",
   "execution_count": null,
   "metadata": {},
   "outputs": [],
   "source": [
    "# np.save('lfp_til_mikkel.npy', np.array(traces_lfp), allow_pickle=False)"
   ]
  },
  {
   "cell_type": "code",
   "execution_count": null,
   "metadata": {},
   "outputs": [],
   "source": [
    "dt = recording_lfp.get_sampling_frequency()\n",
    "t = timestamps_lfp #np.arange(start_time, end_time, dt) currently 0-60 seconds of recording\n",
    "\n",
    "x = traces_lfp[ch] # full trace, need to filter out eg >100Hz\n",
    "NFFT = 6000  # the length of the windowing segments, default NFFT = 256\n",
    "Fs = dt  # sampling freq\n",
    "\n",
    "fig, (ax1, ax2) = plt.subplots(nrows=2)\n",
    "ax1.plot(t, x) #trace\n",
    "Pxx, freqs, bins, im = ax2.specgram(x, NFFT=NFFT, Fs=Fs, noverlap=3*Fs, window=np.bartlett(NFFT))\n",
    "# The `specgram` method returns 4 objects. They are:\n",
    "# - Pxx: the periodogram\n",
    "# - freqs: the frequency vector\n",
    "# - bins: the centers of the time bins\n",
    "# - im: the matplotlib.image.AxesImage instance representing the data in the plot\n",
    "ax2.set_ylim(0, 30)\n",
    "plt.show()\n"
   ]
  },
  {
   "cell_type": "code",
   "execution_count": null,
   "metadata": {},
   "outputs": [],
   "source": [
    "def mask_coi(power, freqs, coi):\n",
    "    periods = 1 / freqs\n",
    "    for i in range(power.shape[1]):\n",
    "        mask = periods > coi[i]\n",
    "        power[mask, i] = np.nan\n",
    "\n",
    "\n",
    "mother = pycwt.Morlet(20) # Morlet size\n",
    "freqs = np.arange(1, 30, .1) # Frequency range\n",
    "\n",
    "wave, scales, freqs, coi, fft, fftfreqs = pycwt.cwt(x, 1/Fs, freqs=freqs, wavelet=mother)\n",
    "\n",
    "power = (np.abs(wave)) ** 2\n",
    "power /= scales[:, None] #rectify the power spectrum according to suggestions proposed by Liu et al. (2007)\n",
    "\n",
    "mask_coi(power, freqs, coi)\n",
    "\n",
    "\n",
    "plt.figure()\n",
    "plt.contourf(t, freqs, power, levels=100)\n",
    "    \n",
    "plt.ylabel('frequency (Hz)')\n",
    "plt.xlabel('time (s)')"
   ]
  },
  {
   "cell_type": "code",
   "execution_count": null,
   "metadata": {},
   "outputs": [],
   "source": []
  }
 ],
 "metadata": {
  "kernelspec": {
   "display_name": "Python 3",
   "language": "python",
   "name": "python3"
  },
  "language_info": {
   "codemirror_mode": {
    "name": "ipython",
    "version": 3
   },
   "file_extension": ".py",
   "mimetype": "text/x-python",
   "name": "python",
   "nbconvert_exporter": "python",
   "pygments_lexer": "ipython3",
   "version": "3.6.12"
  }
 },
 "nbformat": 4,
 "nbformat_minor": 2
}
