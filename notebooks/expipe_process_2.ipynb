{
 "cells": [
  {
   "cell_type": "code",
   "execution_count": 1,
   "metadata": {
    "scrolled": true
   },
   "outputs": [],
   "source": [
    "%load_ext autoreload\n",
    "%autoreload 2"
   ]
  },
  {
   "cell_type": "code",
   "execution_count": 2,
   "metadata": {},
   "outputs": [],
   "source": [
    "from expipe_plugin_cinpla.widgets import browser\n",
    "import expipe"
   ]
  },
  {
   "cell_type": "code",
   "execution_count": 3,
   "metadata": {
    "scrolled": false
   },
   "outputs": [
    {
     "data": {
      "application/vnd.jupyter.widget-view+json": {
       "model_id": "b43ba28c9d3a4c778f4cc508af5c740d",
       "version_major": 2,
       "version_minor": 0
      },
      "text/plain": [
       "Tab(children=(Tab(children=(VBox(children=(HBox(children=(SelectDirectoryButton(description='*Select OpenEphys…"
      ]
     },
     "metadata": {},
     "output_type": "display_data"
    },
    {
     "name": "stdout",
     "output_type": "stream",
     "text": [
      "Running phy\n",
      "\u001b[0m12:41:00.921 [I] supervisor:712       Change metadata_group for clusters 58 to noise.\u001b[0m\n",
      "\n",
      "\u001b[0m12:41:02.785 [I] supervisor:712       Change metadata_group for clusters 82 to noise.\u001b[0m\n",
      "\n",
      "\u001b[0m12:41:03.617 [I] supervisor:712       Change metadata_group for clusters 57 to noise.\u001b[0m\n",
      "\n",
      "\u001b[0m12:41:04.641 [I] supervisor:712       Change metadata_group for clusters 98 to noise.\u001b[0m\n",
      "\n",
      "\u001b[0m12:41:05.737 [I] supervisor:712       Change metadata_group for clusters 69 to noise.\u001b[0m\n",
      "\n",
      "\u001b[0m12:41:06.689 [I] supervisor:712       Change metadata_group for clusters 1 to noise.\u001b[0m\n",
      "\n",
      "\u001b[0m12:41:07.545 [I] supervisor:712       Change metadata_group for clusters 83 to noise.\u001b[0m\n",
      "\n",
      "\u001b[0m12:41:08.697 [I] supervisor:712       Change metadata_group for clusters 2 to noise.\u001b[0m\n",
      "\n",
      "\u001b[0m12:41:09.721 [I] supervisor:712       Change metadata_group for clusters 3 to noise.\u001b[0m\n",
      "\n",
      "\u001b[0m12:41:10.793 [I] supervisor:712       Change metadata_group for clusters 60 to noise.\u001b[0m\n",
      "\n",
      "\u001b[0m12:41:11.857 [I] supervisor:712       Change metadata_group for clusters 5 to noise.\u001b[0m\n",
      "\n",
      "\u001b[0m12:41:12.761 [I] supervisor:712       Change metadata_group for clusters 0 to noise.\u001b[0m\n",
      "\n",
      "\u001b[0m12:41:13.785 [I] supervisor:712       Change metadata_group for clusters 64 to noise.\u001b[0m\n",
      "\n",
      "\u001b[0m12:41:14.737 [I] supervisor:712       Change metadata_group for clusters 6 to noise.\u001b[0m\n",
      "\n",
      "\u001b[0m12:41:17.721 [I] supervisor:712       Change metadata_group for clusters 88 to noise.\u001b[0m\n",
      "\n",
      "\u001b[0m12:41:19.393 [I] supervisor:712       Change metadata_group for clusters 59 to noise.\u001b[0m\n",
      "\n",
      "\u001b[0m12:41:20.297 [I] supervisor:712       Change metadata_group for clusters 61 to noise.\u001b[0m\n",
      "\n",
      "\u001b[0m12:41:21.225 [I] supervisor:712       Change metadata_group for clusters 45 to noise.\u001b[0m\n",
      "\n",
      "\u001b[0m12:41:22.313 [I] supervisor:712       Change metadata_group for clusters 4 to noise.\u001b[0m\n",
      "\n",
      "\u001b[0m12:41:23.313 [I] supervisor:712       Change metadata_group for clusters 119 to noise.\u001b[0m\n",
      "\n",
      "\u001b[0m12:41:24.337 [I] supervisor:712       Change metadata_group for clusters 8 to noise.\u001b[0m\n",
      "\n",
      "\u001b[0m12:41:26.449 [I] supervisor:712       Change metadata_group for clusters 89 to noise.\u001b[0m\n",
      "\n",
      "\u001b[0m12:41:28.105 [I] supervisor:712       Change metadata_group for clusters 90 to noise.\u001b[0m\n",
      "\n",
      "\u001b[0m12:41:29.329 [I] supervisor:712       Change metadata_group for clusters 71 to noise.\u001b[0m\n",
      "\n",
      "\u001b[0m12:41:30.729 [I] supervisor:712       Change metadata_group for clusters 63 to noise.\u001b[0m\n",
      "\n",
      "\u001b[0m12:41:31.961 [I] supervisor:712       Change metadata_group for clusters 77 to noise.\u001b[0m\n",
      "\n",
      "\u001b[0m12:41:33.193 [I] supervisor:712       Change metadata_group for clusters 7 to noise.\u001b[0m\n",
      "\n",
      "\u001b[0m12:41:34.225 [I] supervisor:712       Change metadata_group for clusters 84 to noise.\u001b[0m\n",
      "\n",
      "\u001b[0m12:41:37.392 [I] supervisor:712       Change metadata_group for clusters 67 to noise.\u001b[0m\n",
      "\n",
      "\u001b[0m12:41:38.329 [I] supervisor:712       Change metadata_group for clusters 87 to noise.\u001b[0m\n",
      "\n",
      "\u001b[0m12:41:39.209 [I] supervisor:712       Change metadata_group for clusters 62 to noise.\u001b[0m\n",
      "\n",
      "\u001b[0m12:41:41.393 [I] supervisor:712       Change metadata_group for clusters 94 to noise.\u001b[0m\n",
      "\n",
      "\u001b[0m12:41:42.400 [I] supervisor:712       Change metadata_group for clusters 114 to noise.\u001b[0m\n",
      "\n",
      "\u001b[0m12:41:43.792 [I] supervisor:712       Change metadata_group for clusters 78 to noise.\u001b[0m\n",
      "\n",
      "\u001b[0m12:41:44.977 [I] supervisor:712       Change metadata_group for clusters 16 to noise.\u001b[0m\n",
      "\n",
      "\u001b[0m12:41:45.985 [I] supervisor:712       Change metadata_group for clusters 56 to noise.\u001b[0m\n",
      "\n",
      "\u001b[0m12:41:46.825 [I] supervisor:712       Change metadata_group for clusters 111 to noise.\u001b[0m\n",
      "\n",
      "\u001b[0m12:41:47.832 [I] supervisor:712       Change metadata_group for clusters 113 to noise.\u001b[0m\n",
      "\n",
      "\u001b[0m12:41:48.976 [I] supervisor:712       Change metadata_group for clusters 65 to noise.\u001b[0m\n",
      "\n",
      "\u001b[0m12:41:50.184 [I] supervisor:712       Change metadata_group for clusters 72 to noise.\u001b[0m\n",
      "\n",
      "\u001b[0m12:41:56.944 [I] supervisor:712       Change metadata_group for clusters 70 to noise.\u001b[0m\n",
      "\n",
      "\u001b[0m12:41:57.792 [I] supervisor:712       Change metadata_group for clusters 50 to noise.\u001b[0m\n",
      "\n",
      "\u001b[0m12:42:00.440 [I] supervisor:712       Change metadata_group for clusters 18 to noise.\u001b[0m\n",
      "\n",
      "Running phy\n"
     ]
    }
   ],
   "source": [
    "browser.display('D:/projects/novel-env')"
   ]
  },
  {
   "cell_type": "code",
   "execution_count": 4,
   "metadata": {
    "scrolled": true
   },
   "outputs": [
    {
     "data": {
      "application/vnd.jupyter.widget-view+json": {
       "model_id": "7ac7d6b200aa4d058e837f66c2abff80",
       "version_major": 2,
       "version_minor": 0
      },
      "text/plain": [
       "Tab(children=(Tab(children=(HBox(children=(Accordion(children=(VBox(children=(Checkbox(value=False, descriptio…"
      ]
     },
     "metadata": {},
     "output_type": "display_data"
    }
   ],
   "source": [
    " \n",
    "    expipe.Browser('D:/projects/novel-env').display()"
   ]
  },
  {
   "cell_type": "code",
   "execution_count": null,
   "metadata": {},
   "outputs": [],
   "source": [
    "import spikeextractors as se\n",
    "\n",
    "    sort = se.PhySortingExtractor(r'\\actions\\0003-091219-2\\data\\main.exdir\\processing\\electrophysiology\\spikesorting\\klusta')\n",
    "\n",
    "print(sort.get_unit_property_names())"
   ]
  },
  {
   "cell_type": "code",
   "execution_count": null,
   "metadata": {},
   "outputs": [],
   "source": []
  }
 ],
 "metadata": {
  "kernelspec": {
   "display_name": "Python 3",
   "language": "python",
   "name": "python3"
  },
  "language_info": {
   "codemirror_mode": {
    "name": "ipython",
    "version": 3
   },
   "file_extension": ".py",
   "mimetype": "text/x-python",
   "name": "python",
   "nbconvert_exporter": "python",
   "pygments_lexer": "ipython3",
   "version": "3.6.12"
  }
 },
 "nbformat": 4,
 "nbformat_minor": 2
}
