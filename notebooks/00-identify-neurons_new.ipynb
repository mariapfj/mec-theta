{
 "cells": [
  {
   "cell_type": "code",
   "execution_count": 1,
   "metadata": {},
   "outputs": [],
   "source": [
    "%load_ext autoreload\n",
    "%autoreload 2"
   ]
  },
  {
   "cell_type": "code",
   "execution_count": 2,
   "metadata": {},
   "outputs": [],
   "source": [
    "import os\n",
    "import expipe\n",
    "import pathlib\n",
    "import numpy as np\n",
    "import sys\n",
    "sys.path.append('../mec_theta')\n",
    "import data_processing as dp\n",
    "from trackunitmulticomparison import TrackMultipleSessions\n",
    "# from registration import store_notebook\n",
    "import re\n",
    "import joblib\n",
    "import multiprocessing\n",
    "import shutil\n",
    "import psutil\n",
    "import pandas as pd\n",
    "import matplotlib.pyplot as plt\n",
    "import quantities as pq\n",
    "import exdir\n",
    "from distutils.dir_util import copy_tree\n",
    "from datetime import timedelta\n",
    "from tqdm import tqdm_notebook as tqdm\n",
    "import networkx as nx\n",
    "#from nxpd import draw\n",
    "%matplotlib inline"
   ]
  },
  {
   "cell_type": "code",
   "execution_count": 3,
   "metadata": {},
   "outputs": [],
   "source": [
    "project_path = dp.project_path()\n",
    "\n",
    "project = expipe.get_project(project_path)\n",
    "actions = project.actions"
   ]
  },
  {
   "cell_type": "code",
   "execution_count": 4,
   "metadata": {},
   "outputs": [],
   "source": [
    "output = pathlib.Path('output/identify_neurons')\n",
    "output.mkdir(parents=True, exist_ok=True)"
   ]
  },
  {
   "cell_type": "code",
   "execution_count": 5,
   "metadata": {},
   "outputs": [],
   "source": [
    "identify_neurons = project.require_action('identify-neurons')"
   ]
  },
  {
   "cell_type": "code",
   "execution_count": 6,
   "metadata": {},
   "outputs": [
    {
     "data": {
      "application/vnd.jupyter.widget-view+json": {
       "model_id": "cf391ad1b763400fad75aabbcfc5d00e",
       "version_major": 2,
       "version_minor": 0
      },
      "text/plain": [
       "HBox(children=(VBox(children=(Text(value='', placeholder='Search'), Select(layout=Layout(height='200px'), opti…"
      ]
     },
     "metadata": {},
     "output_type": "display_data"
    }
   ],
   "source": [
    "actions"
   ]
  },
  {
   "cell_type": "code",
   "execution_count": 7,
   "metadata": {},
   "outputs": [
    {
     "data": {
      "text/plain": [
       "{'registered': '2021-01-31T18:07:31',\n",
       " 'datetime': '2021-01-31T17:32:11',\n",
       " 'type': 'Recording',\n",
       " 'tags': ['open-ephys', 'optostim, 11hz'],\n",
       " 'entities': ['137'],\n",
       " 'users': ['maria'],\n",
       " 'location': 'ibv',\n",
       " 'data': {'main': 'actions\\\\137-310121-8\\\\data\\\\main.exdir'}}"
      ]
     },
     "execution_count": 7,
     "metadata": {},
     "output_type": "execute_result"
    }
   ],
   "source": [
    "actions['137-310121-8'].attributes"
   ]
  },
  {
   "cell_type": "code",
   "execution_count": 8,
   "metadata": {},
   "outputs": [],
   "source": [
    "data_loader = dp.Data()"
   ]
  },
  {
   "cell_type": "code",
   "execution_count": 9,
   "metadata": {},
   "outputs": [],
   "source": [
    "skip_actions = [\n",
    "]"
   ]
  },
  {
   "cell_type": "code",
   "execution_count": 10,
   "metadata": {},
   "outputs": [],
   "source": [
    "sessions = []\n",
    "for action in actions.values():\n",
    "    if action.id in skip_actions:\n",
    "        continue\n",
    "    if action.type != 'Recording':\n",
    "        continue\n",
    "    action_data_path = dp.get_data_path(action)\n",
    "    exdir_object =  exdir.File(action_data_path)\n",
    "    if 'processing' not in exdir_object:\n",
    "        continue\n",
    "        \n",
    "    processing = exdir_object['processing']\n",
    "    \n",
    "    if not 'electrophysiology' in processing:\n",
    "        continue\n",
    "    elphys = processing['electrophysiology']\n",
    "    if 'spikesorting' not in elphys:\n",
    "        continue  \n",
    "\n",
    "    sessions.append({\n",
    "       'action': action.id,\n",
    "       'session': int(action.id.split('-')[-1]),\n",
    "       'entity': int(action.entities[0]),\n",
    "\n",
    "   })\n",
    "sessions = pd.DataFrame(sessions)"
   ]
  },
  {
   "cell_type": "code",
   "execution_count": 11,
   "metadata": {},
   "outputs": [
    {
     "data": {
      "text/html": [
       "<div>\n",
       "<style scoped>\n",
       "    .dataframe tbody tr th:only-of-type {\n",
       "        vertical-align: middle;\n",
       "    }\n",
       "\n",
       "    .dataframe tbody tr th {\n",
       "        vertical-align: top;\n",
       "    }\n",
       "\n",
       "    .dataframe thead th {\n",
       "        text-align: right;\n",
       "    }\n",
       "</style>\n",
       "<table border=\"1\" class=\"dataframe\">\n",
       "  <thead>\n",
       "    <tr style=\"text-align: right;\">\n",
       "      <th></th>\n",
       "      <th>action</th>\n",
       "      <th>session</th>\n",
       "      <th>entity</th>\n",
       "    </tr>\n",
       "  </thead>\n",
       "  <tbody>\n",
       "    <tr>\n",
       "      <th>0</th>\n",
       "      <td>137-130121-1</td>\n",
       "      <td>1</td>\n",
       "      <td>137</td>\n",
       "    </tr>\n",
       "    <tr>\n",
       "      <th>1</th>\n",
       "      <td>137-140121-1</td>\n",
       "      <td>1</td>\n",
       "      <td>137</td>\n",
       "    </tr>\n",
       "    <tr>\n",
       "      <th>2</th>\n",
       "      <td>137-190121-2</td>\n",
       "      <td>2</td>\n",
       "      <td>137</td>\n",
       "    </tr>\n",
       "    <tr>\n",
       "      <th>3</th>\n",
       "      <td>137-310121-8</td>\n",
       "      <td>8</td>\n",
       "      <td>137</td>\n",
       "    </tr>\n",
       "  </tbody>\n",
       "</table>\n",
       "</div>"
      ],
      "text/plain": [
       "         action  session  entity\n",
       "0  137-130121-1        1     137\n",
       "1  137-140121-1        1     137\n",
       "2  137-190121-2        2     137\n",
       "3  137-310121-8        8     137"
      ]
     },
     "execution_count": 11,
     "metadata": {},
     "output_type": "execute_result"
    }
   ],
   "source": [
    "sessions"
   ]
  },
  {
   "cell_type": "code",
   "execution_count": 12,
   "metadata": {},
   "outputs": [],
   "source": [
    "sessions['date'] = sessions.apply(lambda x: x.action.split('-')[1], axis=1)\n",
    "sessions['entity_date'] = sessions.apply(lambda x: '-'.join(x.action.split('-')[:2]), axis=1)"
   ]
  },
  {
   "cell_type": "code",
   "execution_count": 13,
   "metadata": {},
   "outputs": [],
   "source": [
    "sessions.to_csv(output / 'sessions.csv', index=False)"
   ]
  },
  {
   "cell_type": "markdown",
   "metadata": {},
   "source": [
    "# Identify unique neurons"
   ]
  },
  {
   "cell_type": "code",
   "execution_count": 27,
   "metadata": {},
   "outputs": [],
   "source": [
    "include = [\"137-190121-2\", \"137-310121-8\"] #list recordings to include (separated by comma)"
   ]
  },
  {
   "cell_type": "code",
   "execution_count": 28,
   "metadata": {},
   "outputs": [],
   "source": [
    "sessions_include = sessions.query(\"action.isin(@include)\")"
   ]
  },
  {
   "cell_type": "code",
   "execution_count": 29,
   "metadata": {},
   "outputs": [
    {
     "data": {
      "text/html": [
       "<div>\n",
       "<style scoped>\n",
       "    .dataframe tbody tr th:only-of-type {\n",
       "        vertical-align: middle;\n",
       "    }\n",
       "\n",
       "    .dataframe tbody tr th {\n",
       "        vertical-align: top;\n",
       "    }\n",
       "\n",
       "    .dataframe thead th {\n",
       "        text-align: right;\n",
       "    }\n",
       "</style>\n",
       "<table border=\"1\" class=\"dataframe\">\n",
       "  <thead>\n",
       "    <tr style=\"text-align: right;\">\n",
       "      <th></th>\n",
       "      <th>action</th>\n",
       "      <th>session</th>\n",
       "      <th>entity</th>\n",
       "      <th>date</th>\n",
       "      <th>entity_date</th>\n",
       "    </tr>\n",
       "  </thead>\n",
       "  <tbody>\n",
       "    <tr>\n",
       "      <th>2</th>\n",
       "      <td>137-190121-2</td>\n",
       "      <td>2</td>\n",
       "      <td>137</td>\n",
       "      <td>190121</td>\n",
       "      <td>137-190121</td>\n",
       "    </tr>\n",
       "    <tr>\n",
       "      <th>3</th>\n",
       "      <td>137-310121-8</td>\n",
       "      <td>8</td>\n",
       "      <td>137</td>\n",
       "      <td>310121</td>\n",
       "      <td>137-310121</td>\n",
       "    </tr>\n",
       "  </tbody>\n",
       "</table>\n",
       "</div>"
      ],
      "text/plain": [
       "         action  session  entity    date entity_date\n",
       "2  137-190121-2        2     137  190121  137-190121\n",
       "3  137-310121-8        8     137  310121  137-310121"
      ]
     },
     "execution_count": 29,
     "metadata": {},
     "output_type": "execute_result"
    }
   ],
   "source": [
    "sessions_include"
   ]
  },
  {
   "cell_type": "code",
   "execution_count": 31,
   "metadata": {},
   "outputs": [
    {
     "name": "stdout",
     "output_type": "stream",
     "text": [
      "Processing 137\n"
     ]
    },
    {
     "data": {
      "application/vnd.jupyter.widget-view+json": {
       "model_id": "ef266433da3e4576b26905865a9ce080",
       "version_major": 2,
       "version_minor": 0
      },
      "text/plain": [
       "  0%|          | 0/1 [00:00<?, ?it/s]"
      ]
     },
     "metadata": {},
     "output_type": "display_data"
    }
   ],
   "source": [
    "# save graphs\n",
    "for entity, values in sessions_include.groupby('entity'):\n",
    "    data_path = output / f'{entity}-graphs'\n",
    "    if data_path.exists():\n",
    "        shutil.rmtree(data_path)\n",
    "#         continue\n",
    "    print('Processing', entity)\n",
    "    unit_matching = TrackMultipleSessions(\n",
    "        actions, action_list=values.action.values.tolist(), \n",
    "        progress_bar=tqdm, verbose=False, data_path=data_path\n",
    "    )\n",
    "    unit_matching.do_matching()\n",
    "    unit_matching.make_graphs_from_matches()\n",
    "#     unit_matching.compute_time_delta_edges()\n",
    "    unit_matching.compute_depth_delta_edges()\n",
    "    # save graph with all dissimilarities for later use\n",
    "    unit_matching.save_graphs()"
   ]
  },
  {
   "cell_type": "markdown",
   "metadata": {},
   "source": [
    "# Plot comparisons"
   ]
  },
  {
   "cell_type": "code",
   "execution_count": 32,
   "metadata": {},
   "outputs": [],
   "source": [
    "entity = 137\n",
    "unit_comp = TrackMultipleSessions(\n",
    "    actions, sessions_include.action.values, data_path=f'output/identify_neurons/{entity}-graphs')"
   ]
  },
  {
   "cell_type": "code",
   "execution_count": 33,
   "metadata": {},
   "outputs": [],
   "source": [
    "unit_comp.load_graphs()"
   ]
  },
  {
   "cell_type": "code",
   "execution_count": 34,
   "metadata": {},
   "outputs": [],
   "source": [
    "max_dissimilarity = .05\n",
    "max_depth_delta = 100\n",
    "\n",
    "unit_comp.remove_edges_above_threshold('weight', max_dissimilarity)\n",
    "unit_comp.remove_edges_above_threshold('depth_delta', max_depth_delta)"
   ]
  },
  {
   "cell_type": "code",
   "execution_count": 35,
   "metadata": {
    "scrolled": false
   },
   "outputs": [],
   "source": [
    "unit_comp.remove_edges_with_duplicate_actions()\n",
    "unit_comp.identify_units()"
   ]
  },
  {
   "cell_type": "code",
   "execution_count": 39,
   "metadata": {
    "scrolled": false
   },
   "outputs": [
    {
     "ename": "ValueError",
     "evalue": "Number of rows must be a positive integer, not 0",
     "output_type": "error",
     "traceback": [
      "\u001b[1;31m---------------------------------------------------------------------------\u001b[0m",
      "\u001b[1;31mValueError\u001b[0m                                Traceback (most recent call last)",
      "\u001b[1;32m<ipython-input-39-ceac8ac04922>\u001b[0m in \u001b[0;36m<module>\u001b[1;34m\u001b[0m\n\u001b[1;32m----> 1\u001b[1;33m \u001b[0munit_comp\u001b[0m\u001b[1;33m.\u001b[0m\u001b[0mplot_matches\u001b[0m\u001b[1;33m(\u001b[0m\u001b[1;34m'template'\u001b[0m\u001b[1;33m,\u001b[0m \u001b[0mchan_group\u001b[0m\u001b[1;33m=\u001b[0m\u001b[1;36m0\u001b[0m\u001b[1;33m,\u001b[0m \u001b[0mstep_color\u001b[0m\u001b[1;33m=\u001b[0m\u001b[1;32mFalse\u001b[0m\u001b[1;33m)\u001b[0m\u001b[1;33m\u001b[0m\u001b[1;33m\u001b[0m\u001b[0m\n\u001b[0m\u001b[0;32m      2\u001b[0m \u001b[0mplt\u001b[0m\u001b[1;33m.\u001b[0m\u001b[0mtight_layout\u001b[0m\u001b[1;33m(\u001b[0m\u001b[1;33m)\u001b[0m\u001b[1;33m\u001b[0m\u001b[1;33m\u001b[0m\u001b[0m\n",
      "\u001b[1;32mD:\\projects\\mec-theta\\mec_theta\\trackunitmulticomparison.py\u001b[0m in \u001b[0;36mplot_matches\u001b[1;34m(self, style, chan_group, figsize, step_color)\u001b[0m\n\u001b[0;32m    269\u001b[0m             \u001b[0mnum_units\u001b[0m \u001b[1;33m=\u001b[0m \u001b[0msum\u001b[0m\u001b[1;33m(\u001b[0m\u001b[1;33m[\u001b[0m\u001b[0mlen\u001b[0m\u001b[1;33m(\u001b[0m\u001b[0mu\u001b[0m\u001b[1;33m)\u001b[0m \u001b[1;32mfor\u001b[0m \u001b[0mu\u001b[0m \u001b[1;32min\u001b[0m \u001b[0munits\u001b[0m\u001b[1;33m]\u001b[0m\u001b[1;33m)\u001b[0m\u001b[1;33m\u001b[0m\u001b[1;33m\u001b[0m\u001b[0m\n\u001b[0;32m    270\u001b[0m             \u001b[0mfig\u001b[0m \u001b[1;33m=\u001b[0m \u001b[0mplt\u001b[0m\u001b[1;33m.\u001b[0m\u001b[0mfigure\u001b[0m\u001b[1;33m(\u001b[0m\u001b[0mfigsize\u001b[0m\u001b[1;33m=\u001b[0m\u001b[1;33m(\u001b[0m\u001b[0mfigsize\u001b[0m\u001b[1;33m[\u001b[0m\u001b[1;36m0\u001b[0m\u001b[1;33m]\u001b[0m\u001b[1;33m,\u001b[0m \u001b[0mfigsize\u001b[0m\u001b[1;33m[\u001b[0m\u001b[1;36m1\u001b[0m\u001b[1;33m]\u001b[0m \u001b[1;33m*\u001b[0m \u001b[0mnum_units\u001b[0m\u001b[1;33m)\u001b[0m\u001b[1;33m)\u001b[0m\u001b[1;33m\u001b[0m\u001b[1;33m\u001b[0m\u001b[0m\n\u001b[1;32m--> 271\u001b[1;33m             \u001b[0mgs\u001b[0m \u001b[1;33m=\u001b[0m \u001b[0mgridspec\u001b[0m\u001b[1;33m.\u001b[0m\u001b[0mGridSpec\u001b[0m\u001b[1;33m(\u001b[0m\u001b[0mnum_units\u001b[0m\u001b[1;33m,\u001b[0m \u001b[1;36m1\u001b[0m\u001b[1;33m)\u001b[0m\u001b[1;33m\u001b[0m\u001b[1;33m\u001b[0m\u001b[0m\n\u001b[0m\u001b[0;32m    272\u001b[0m             \u001b[0mfig\u001b[0m\u001b[1;33m.\u001b[0m\u001b[0msuptitle\u001b[0m\u001b[1;33m(\u001b[0m\u001b[1;34m'Channel group '\u001b[0m \u001b[1;33m+\u001b[0m \u001b[0mstr\u001b[0m\u001b[1;33m(\u001b[0m\u001b[0mch_group\u001b[0m\u001b[1;33m)\u001b[0m\u001b[1;33m)\u001b[0m\u001b[1;33m\u001b[0m\u001b[1;33m\u001b[0m\u001b[0m\n\u001b[0;32m    273\u001b[0m             \u001b[0mid_ax\u001b[0m \u001b[1;33m=\u001b[0m \u001b[1;36m0\u001b[0m\u001b[1;33m\u001b[0m\u001b[1;33m\u001b[0m\u001b[0m\n",
      "\u001b[1;32mc:\\apps\\anaconda3\\envs\\expipe\\lib\\site-packages\\matplotlib\\gridspec.py\u001b[0m in \u001b[0;36m__init__\u001b[1;34m(self, nrows, ncols, figure, left, bottom, right, top, wspace, hspace, width_ratios, height_ratios)\u001b[0m\n\u001b[0;32m    420\u001b[0m         GridSpecBase.__init__(self, nrows, ncols,\n\u001b[0;32m    421\u001b[0m                               \u001b[0mwidth_ratios\u001b[0m\u001b[1;33m=\u001b[0m\u001b[0mwidth_ratios\u001b[0m\u001b[1;33m,\u001b[0m\u001b[1;33m\u001b[0m\u001b[1;33m\u001b[0m\u001b[0m\n\u001b[1;32m--> 422\u001b[1;33m                               height_ratios=height_ratios)\n\u001b[0m\u001b[0;32m    423\u001b[0m \u001b[1;33m\u001b[0m\u001b[0m\n\u001b[0;32m    424\u001b[0m         \u001b[1;32mif\u001b[0m \u001b[0mself\u001b[0m\u001b[1;33m.\u001b[0m\u001b[0mfigure\u001b[0m \u001b[1;32mis\u001b[0m \u001b[1;32mNone\u001b[0m \u001b[1;32mor\u001b[0m \u001b[1;32mnot\u001b[0m \u001b[0mself\u001b[0m\u001b[1;33m.\u001b[0m\u001b[0mfigure\u001b[0m\u001b[1;33m.\u001b[0m\u001b[0mget_constrained_layout\u001b[0m\u001b[1;33m(\u001b[0m\u001b[1;33m)\u001b[0m\u001b[1;33m:\u001b[0m\u001b[1;33m\u001b[0m\u001b[1;33m\u001b[0m\u001b[0m\n",
      "\u001b[1;32mc:\\apps\\anaconda3\\envs\\expipe\\lib\\site-packages\\matplotlib\\gridspec.py\u001b[0m in \u001b[0;36m__init__\u001b[1;34m(self, nrows, ncols, height_ratios, width_ratios)\u001b[0m\n\u001b[0;32m     47\u001b[0m         \u001b[1;32mif\u001b[0m \u001b[1;32mnot\u001b[0m \u001b[0misinstance\u001b[0m\u001b[1;33m(\u001b[0m\u001b[0mnrows\u001b[0m\u001b[1;33m,\u001b[0m \u001b[0mIntegral\u001b[0m\u001b[1;33m)\u001b[0m \u001b[1;32mor\u001b[0m \u001b[0mnrows\u001b[0m \u001b[1;33m<=\u001b[0m \u001b[1;36m0\u001b[0m\u001b[1;33m:\u001b[0m\u001b[1;33m\u001b[0m\u001b[1;33m\u001b[0m\u001b[0m\n\u001b[0;32m     48\u001b[0m             raise ValueError(\n\u001b[1;32m---> 49\u001b[1;33m                 f\"Number of rows must be a positive integer, not {nrows}\")\n\u001b[0m\u001b[0;32m     50\u001b[0m         \u001b[1;32mif\u001b[0m \u001b[1;32mnot\u001b[0m \u001b[0misinstance\u001b[0m\u001b[1;33m(\u001b[0m\u001b[0mncols\u001b[0m\u001b[1;33m,\u001b[0m \u001b[0mIntegral\u001b[0m\u001b[1;33m)\u001b[0m \u001b[1;32mor\u001b[0m \u001b[0mncols\u001b[0m \u001b[1;33m<=\u001b[0m \u001b[1;36m0\u001b[0m\u001b[1;33m:\u001b[0m\u001b[1;33m\u001b[0m\u001b[1;33m\u001b[0m\u001b[0m\n\u001b[0;32m     51\u001b[0m             raise ValueError(\n",
      "\u001b[1;31mValueError\u001b[0m: Number of rows must be a positive integer, not 0"
     ]
    },
    {
     "data": {
      "text/plain": [
       "<Figure size 720x0 with 0 Axes>"
      ]
     },
     "metadata": {},
     "output_type": "display_data"
    }
   ],
   "source": [
    "unit_comp.plot_matches('template', chan_group=0, step_color=False)\n",
    "plt.tight_layout()"
   ]
  },
  {
   "cell_type": "markdown",
   "metadata": {},
   "source": [
    "# Store uniqe unit ids to csv"
   ]
  },
  {
   "cell_type": "code",
   "execution_count": 22,
   "metadata": {},
   "outputs": [],
   "source": [
    "max_dissimilarity = .05\n",
    "max_depth_delta = 100\n",
    "id_nums = {}\n",
    "num = 0\n",
    "for entity, values in sessions_include.groupby('entity'):\n",
    "    data_path = output / f'{entity}-graphs'\n",
    "    unit_matching = TrackMultipleSessions(\n",
    "        actions, values.action.values.tolist(), \n",
    "        progress_bar=tqdm, verbose=False, data_path=data_path\n",
    "    )\n",
    "    unit_matching.load_graphs()\n",
    "    # cutoff large dissimilarities\n",
    "    unit_matching.remove_edges_above_threshold('weight', max_dissimilarity)\n",
    "    unit_matching.remove_edges_above_threshold('depth_delta', max_depth_delta)\n",
    "    unit_matching.remove_edges_with_duplicate_actions()\n",
    "    unit_matching.identify_units()\n",
    "    units = []\n",
    "    for ch, group in unit_matching.identified_units.items():\n",
    "        for unit_id, val in group.items():\n",
    "            for action_id, orig_unit_ids in val['original_unit_ids'].items():\n",
    "                if unit_id not in id_nums:\n",
    "                    id_nums[unit_id] = num\n",
    "                    num += 1\n",
    "                units.extend([\n",
    "                    {\n",
    "                        'unit_name': name, \n",
    "                        'unit_idnum': id_nums[unit_id],\n",
    "                        'unit_id': unit_id, \n",
    "                        'action': action_id,\n",
    "                        'channel_group': ch,\n",
    "                        'max_dissimilarity': max_dissimilarity,\n",
    "                        'max_depth_delta': max_depth_delta\n",
    "                    } \n",
    "                    for name in orig_unit_ids])\n",
    "    units = pd.DataFrame(units)\n",
    "    units = units[~units.action.isin(skip_actions)]\n",
    "    units.to_csv(output / f'{entity}-units.csv', index=False)"
   ]
  },
  {
   "cell_type": "code",
   "execution_count": 23,
   "metadata": {},
   "outputs": [],
   "source": [
    "unique_units = pd.concat([\n",
    "    pd.read_csv(p) \n",
    "    for p in output.iterdir() \n",
    "    if p.name.endswith('-units.csv')])"
   ]
  },
  {
   "cell_type": "code",
   "execution_count": 24,
   "metadata": {},
   "outputs": [],
   "source": [
    "unique_units.to_csv(output / 'units.csv', index=False)"
   ]
  },
  {
   "cell_type": "markdown",
   "metadata": {},
   "source": [
    "# Store results in Expipe action"
   ]
  },
  {
   "cell_type": "code",
   "execution_count": 93,
   "metadata": {},
   "outputs": [],
   "source": [
    "identify_neurons.data['sessions'] = 'sessions.csv'\n",
    "identify_neurons.data['units'] = 'units.csv'"
   ]
  },
  {
   "cell_type": "code",
   "execution_count": 94,
   "metadata": {},
   "outputs": [
    {
     "data": {
      "text/plain": [
       "['D:\\\\projects\\\\CA2\\\\actions\\\\identify-neurons\\\\data\\\\133-graphs\\\\graph-group-0.yaml',\n",
       " 'D:\\\\projects\\\\CA2\\\\actions\\\\identify-neurons\\\\data\\\\133-graphs\\\\graph-group-1.yaml',\n",
       " 'D:\\\\projects\\\\CA2\\\\actions\\\\identify-neurons\\\\data\\\\133-graphs\\\\graph-group-2.yaml',\n",
       " 'D:\\\\projects\\\\CA2\\\\actions\\\\identify-neurons\\\\data\\\\133-graphs\\\\graph-group-3.yaml',\n",
       " 'D:\\\\projects\\\\CA2\\\\actions\\\\identify-neurons\\\\data\\\\133-graphs\\\\graph-group-4.yaml',\n",
       " 'D:\\\\projects\\\\CA2\\\\actions\\\\identify-neurons\\\\data\\\\133-graphs\\\\graph-group-5.yaml',\n",
       " 'D:\\\\projects\\\\CA2\\\\actions\\\\identify-neurons\\\\data\\\\133-graphs\\\\graph-group-6.yaml',\n",
       " 'D:\\\\projects\\\\CA2\\\\actions\\\\identify-neurons\\\\data\\\\133-graphs\\\\graph-group-7.yaml',\n",
       " 'D:\\\\projects\\\\CA2\\\\actions\\\\identify-neurons\\\\data\\\\133-units.csv',\n",
       " 'D:\\\\projects\\\\CA2\\\\actions\\\\identify-neurons\\\\data\\\\sessions.csv',\n",
       " 'D:\\\\projects\\\\CA2\\\\actions\\\\identify-neurons\\\\data\\\\units.csv']"
      ]
     },
     "execution_count": 94,
     "metadata": {},
     "output_type": "execute_result"
    }
   ],
   "source": [
    "copy_tree(output, str(identify_neurons.data_path()))"
   ]
  },
  {
   "cell_type": "code",
   "execution_count": 97,
   "metadata": {},
   "outputs": [],
   "source": [
    "store_notebook(\n",
    "    identify_neurons, \"00-identify-neurons.ipynb\")"
   ]
  },
  {
   "cell_type": "code",
   "execution_count": null,
   "metadata": {},
   "outputs": [],
   "source": []
  }
 ],
 "metadata": {
  "kernelspec": {
   "display_name": "Python 3",
   "language": "python",
   "name": "python3"
  },
  "language_info": {
   "codemirror_mode": {
    "name": "ipython",
    "version": 3
   },
   "file_extension": ".py",
   "mimetype": "text/x-python",
   "name": "python",
   "nbconvert_exporter": "python",
   "pygments_lexer": "ipython3",
   "version": "3.6.12"
  }
 },
 "nbformat": 4,
 "nbformat_minor": 2
}
